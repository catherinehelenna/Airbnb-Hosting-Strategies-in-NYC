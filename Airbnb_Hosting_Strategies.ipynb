{
  "cells": [
    {
      "cell_type": "markdown",
      "metadata": {},
      "source": [
        "### Link for data visualization dashboard at Tableau Public: \n",
        "https://public.tableau.com/app/profile/catherine.mulyadi/viz/Project1AirbnbHostingStrategiesinNYCDashboard/MilestoneProject1-Catherine"
      ]
    },
    {
      "cell_type": "markdown",
      "metadata": {
        "id": "SYFakp1Kov5Z"
      },
      "source": [
        "\n",
        "======================================================================================================================================================================================================================================\n",
        "# <center>MILESTONE PROJECT PHASE 0</center>\n",
        "\n",
        "\n",
        "### <center>Name  : Catherine Helenna Mulyadi</center>\n",
        "\n",
        "\n",
        "<center>This program analyzes the room type popularity in New York City based on listing availability. The insights generated will inform hosting strategies to enhance Airbnb's performance by identifying potential markets for new listings.</center>\n",
        "\n",
        "\n",
        "======================================================================================================================================================================================================================================\n"
      ]
    },
    {
      "cell_type": "markdown",
      "metadata": {
        "id": "R8Zk-zshov5l"
      },
      "source": [
        "## I. PROBLEM IDENTIFICATION\n",
        "\n",
        "#### 1. **THEME**\n",
        "\n",
        "##### <center>IMPROVING AIRBNB HOSTING STRATEGIES THROUGH IN-DEPTH ROOM TYPE ANALYSIS</center>\n"
      ]
    },
    {
      "cell_type": "markdown",
      "metadata": {
        "id": "OcEqXdt37c0G"
      },
      "source": [
        "#### 2. **SMART GOAL**\n",
        "\n",
        "1. **SPECIFIC**\n",
        "- Investigate the popularity of Airbnb room types among the neighbourhood groups in New York City.\n",
        "2. **MEASURABLE**\n",
        "- Popular room type is defined average availability of the room in a year is less than or equal to 120 days and which room type is dominant in Airbnb.\n",
        "3. **ACHIEVABLE**\n",
        "- Check the effect of room pricing on minimum nights the guests stayed.\n",
        "- Compare room availability between different neighbourhoods.\n",
        "4. **RELEVANT**\n",
        "- To provide better hosting strategies.\n",
        "5. **TIME-BOUND**\n",
        "- Achieve the target in a month.\n",
        "\n",
        "\n",
        "\n",
        "##### **<center>PROBLEM STATEMENT<center>**\n",
        "\n",
        "Investigate the popularity of Airbnb room types in New York City, specifically those with an availability of less than 120 days. Analyze room types, neighborhood variances, and pricing influences on the minimum booking duration for guests, with the goal of completing the study within a one-month timeframe."
      ]
    },
    {
      "cell_type": "markdown",
      "metadata": {
        "id": "rNB8CzhR7fUU"
      },
      "source": [
        "#### 3. **BACKGROUND**\n",
        "\n",
        "With the increasing number of accessible transportation modes for travelling, the demand of accommodation is also rising since the last decade. Thanks to this phenomenon, one of the well-known accommodation provider service companies, Airbnb,is gaining more hosts as well as guests. Airbnb would like to expand its reach on potential locations in New York City so the company is interested to find out what kind of room type is currently popular in terms of annual availability and ownership.<br>\n",
        "\n",
        "As a data analyst working in Airbnb, you need to figure out how to obtain those information from a provided Airbnb dataset in New York City in 2019. By finding those information, you can give insight to the company about the next hosting strategies to fulfill the demand better."
      ]
    },
    {
      "cell_type": "markdown",
      "metadata": {
        "id": "7F9lFNnV7i3F"
      },
      "source": [
        "#### 4. **PROBLEM DESCRIPTION**\n",
        "\n",
        "##### Method: 5W + 1H\n",
        "\n",
        "<u>Method: Descriptive Statistics and Bar Graph Visualization</u>\n",
        "\n",
        "1. Which neighbourhood group is most popular based on average availability of room in a year? (the average should have the lowest value since it means the room is booked in more days)\n",
        "\n",
        "<u>Method: Geospatial Heatmap Visualization</u>\n",
        "\n",
        "2. How is the distribution of popular Airbnb rooms in each neighbourhood?\n",
        "\n",
        "<u>Method: Pie Chart Visualization</u>\n",
        "\n",
        "3. How is the proportion of room types available on Airbnb?\n",
        "\n",
        "<u>Method: Descriptive Statistics, Boxplot Visualization</u>\n",
        "\n",
        "4. How are the prices of all rooms in each neighbourhood groups and check outliers?\n",
        "\n",
        "<u>Method: ANOVA test (Inferential Statistics)</u>\n",
        "\n",
        "5. Are there any significant differences of prices among the neighbourhood groups?\n",
        "\n",
        "  - H0: there is no significant difference about the prices in all neighbourhood groups.\n",
        "\n",
        "  - H1: there is a significant difference about the prices from one neighbourhood group to another.\n",
        "\n",
        "\n",
        "<u>Method: Scatter-plot and Correlation Tests</u>\n",
        "\n",
        "6. How is the relationship between the Airbnb price and the minimum booked nights?\n"
      ]
    },
    {
      "cell_type": "markdown",
      "metadata": {
        "id": "VrkjTx7Eov5e"
      },
      "source": [
        "## 2. DATA LOADING PROCESS\n",
        "\n",
        "##### - Note: data was taken from a Kaggle dataset.\n",
        "##### - Source: https://www.kaggle.com/datasets/dgomonov/new-york-city-airbnb-open-data\n",
        "##### - or you can use this CSV file: AB_NYC_2019.csv"
      ]
    },
    {
      "cell_type": "code",
      "execution_count": 1,
      "metadata": {
        "id": "wJ5mrYXsov5f"
      },
      "outputs": [],
      "source": [
        "# Import necessary libraries\n",
        "import pandas as pd\n",
        "from scipy import stats\n",
        "import numpy as np\n",
        "import matplotlib.pyplot as plt\n",
        "import seaborn as sns"
      ]
    },
    {
      "cell_type": "code",
      "execution_count": 2,
      "metadata": {
        "colab": {
          "base_uri": "https://localhost:8080/",
          "height": 417
        },
        "id": "cPjJ2zgTov5h",
        "outputId": "9603f8d0-6e17-4ce4-8a4c-3cc9b83d72d1"
      },
      "outputs": [
        {
          "data": {
            "text/html": [
              "<div>\n",
              "<style scoped>\n",
              "    .dataframe tbody tr th:only-of-type {\n",
              "        vertical-align: middle;\n",
              "    }\n",
              "\n",
              "    .dataframe tbody tr th {\n",
              "        vertical-align: top;\n",
              "    }\n",
              "\n",
              "    .dataframe thead th {\n",
              "        text-align: right;\n",
              "    }\n",
              "</style>\n",
              "<table border=\"1\" class=\"dataframe\">\n",
              "  <thead>\n",
              "    <tr style=\"text-align: right;\">\n",
              "      <th></th>\n",
              "      <th>id</th>\n",
              "      <th>name</th>\n",
              "      <th>host_id</th>\n",
              "      <th>host_name</th>\n",
              "      <th>neighbourhood_group</th>\n",
              "      <th>neighbourhood</th>\n",
              "      <th>latitude</th>\n",
              "      <th>longitude</th>\n",
              "      <th>room_type</th>\n",
              "      <th>price</th>\n",
              "      <th>minimum_nights</th>\n",
              "      <th>number_of_reviews</th>\n",
              "      <th>last_review</th>\n",
              "      <th>reviews_per_month</th>\n",
              "      <th>calculated_host_listings_count</th>\n",
              "      <th>availability_365</th>\n",
              "    </tr>\n",
              "  </thead>\n",
              "  <tbody>\n",
              "    <tr>\n",
              "      <th>0</th>\n",
              "      <td>2539</td>\n",
              "      <td>Clean &amp; quiet apt home by the park</td>\n",
              "      <td>2787</td>\n",
              "      <td>John</td>\n",
              "      <td>Brooklyn</td>\n",
              "      <td>Kensington</td>\n",
              "      <td>40.64749</td>\n",
              "      <td>-73.97237</td>\n",
              "      <td>Private room</td>\n",
              "      <td>149</td>\n",
              "      <td>1</td>\n",
              "      <td>9</td>\n",
              "      <td>2018-10-19</td>\n",
              "      <td>0.21</td>\n",
              "      <td>6</td>\n",
              "      <td>365</td>\n",
              "    </tr>\n",
              "    <tr>\n",
              "      <th>1</th>\n",
              "      <td>2595</td>\n",
              "      <td>Skylit Midtown Castle</td>\n",
              "      <td>2845</td>\n",
              "      <td>Jennifer</td>\n",
              "      <td>Manhattan</td>\n",
              "      <td>Midtown</td>\n",
              "      <td>40.75362</td>\n",
              "      <td>-73.98377</td>\n",
              "      <td>Entire home/apt</td>\n",
              "      <td>225</td>\n",
              "      <td>1</td>\n",
              "      <td>45</td>\n",
              "      <td>2019-05-21</td>\n",
              "      <td>0.38</td>\n",
              "      <td>2</td>\n",
              "      <td>355</td>\n",
              "    </tr>\n",
              "    <tr>\n",
              "      <th>2</th>\n",
              "      <td>3647</td>\n",
              "      <td>THE VILLAGE OF HARLEM....NEW YORK !</td>\n",
              "      <td>4632</td>\n",
              "      <td>Elisabeth</td>\n",
              "      <td>Manhattan</td>\n",
              "      <td>Harlem</td>\n",
              "      <td>40.80902</td>\n",
              "      <td>-73.94190</td>\n",
              "      <td>Private room</td>\n",
              "      <td>150</td>\n",
              "      <td>3</td>\n",
              "      <td>0</td>\n",
              "      <td>NaN</td>\n",
              "      <td>NaN</td>\n",
              "      <td>1</td>\n",
              "      <td>365</td>\n",
              "    </tr>\n",
              "    <tr>\n",
              "      <th>3</th>\n",
              "      <td>3831</td>\n",
              "      <td>Cozy Entire Floor of Brownstone</td>\n",
              "      <td>4869</td>\n",
              "      <td>LisaRoxanne</td>\n",
              "      <td>Brooklyn</td>\n",
              "      <td>Clinton Hill</td>\n",
              "      <td>40.68514</td>\n",
              "      <td>-73.95976</td>\n",
              "      <td>Entire home/apt</td>\n",
              "      <td>89</td>\n",
              "      <td>1</td>\n",
              "      <td>270</td>\n",
              "      <td>2019-07-05</td>\n",
              "      <td>4.64</td>\n",
              "      <td>1</td>\n",
              "      <td>194</td>\n",
              "    </tr>\n",
              "    <tr>\n",
              "      <th>4</th>\n",
              "      <td>5022</td>\n",
              "      <td>Entire Apt: Spacious Studio/Loft by central park</td>\n",
              "      <td>7192</td>\n",
              "      <td>Laura</td>\n",
              "      <td>Manhattan</td>\n",
              "      <td>East Harlem</td>\n",
              "      <td>40.79851</td>\n",
              "      <td>-73.94399</td>\n",
              "      <td>Entire home/apt</td>\n",
              "      <td>80</td>\n",
              "      <td>10</td>\n",
              "      <td>9</td>\n",
              "      <td>2018-11-19</td>\n",
              "      <td>0.10</td>\n",
              "      <td>1</td>\n",
              "      <td>0</td>\n",
              "    </tr>\n",
              "  </tbody>\n",
              "</table>\n",
              "</div>"
            ],
            "text/plain": [
              "     id                                              name  host_id  \\\n",
              "0  2539                Clean & quiet apt home by the park     2787   \n",
              "1  2595                             Skylit Midtown Castle     2845   \n",
              "2  3647               THE VILLAGE OF HARLEM....NEW YORK !     4632   \n",
              "3  3831                   Cozy Entire Floor of Brownstone     4869   \n",
              "4  5022  Entire Apt: Spacious Studio/Loft by central park     7192   \n",
              "\n",
              "     host_name neighbourhood_group neighbourhood  latitude  longitude  \\\n",
              "0         John            Brooklyn    Kensington  40.64749  -73.97237   \n",
              "1     Jennifer           Manhattan       Midtown  40.75362  -73.98377   \n",
              "2    Elisabeth           Manhattan        Harlem  40.80902  -73.94190   \n",
              "3  LisaRoxanne            Brooklyn  Clinton Hill  40.68514  -73.95976   \n",
              "4        Laura           Manhattan   East Harlem  40.79851  -73.94399   \n",
              "\n",
              "         room_type  price  minimum_nights  number_of_reviews last_review  \\\n",
              "0     Private room    149               1                  9  2018-10-19   \n",
              "1  Entire home/apt    225               1                 45  2019-05-21   \n",
              "2     Private room    150               3                  0         NaN   \n",
              "3  Entire home/apt     89               1                270  2019-07-05   \n",
              "4  Entire home/apt     80              10                  9  2018-11-19   \n",
              "\n",
              "   reviews_per_month  calculated_host_listings_count  availability_365  \n",
              "0               0.21                               6               365  \n",
              "1               0.38                               2               355  \n",
              "2                NaN                               1               365  \n",
              "3               4.64                               1               194  \n",
              "4               0.10                               1                 0  "
            ]
          },
          "execution_count": 2,
          "metadata": {},
          "output_type": "execute_result"
        }
      ],
      "source": [
        "# data loading\n",
        "# you can replace the filepath name according to your dataset file path\n",
        "main_df = pd.read_csv('/Users/catherinemulyadi/Data Science Projects/Airbnb-Hosting-Strategies-in-NYC/AB_NYC_2019.csv')\n",
        "\n",
        "# show the first 5 data\n",
        "main_df.head()"
      ]
    },
    {
      "cell_type": "markdown",
      "metadata": {
        "id": "ifmQ2jB-ov5h"
      },
      "source": [
        "#### **RAW DATA UNDERSTANDING:**\n",
        "- The data contains various information related to Airbnb hosts in New York City for 2019.\n",
        "\n",
        "- The Airbnb host information include 'host_id' and 'host_name' while the Airbnb's identity such as 'id', 'name', 'room_type', and 'price'. Furthermore, details about Airbnb location are shown by 'neighbourhood_group', 'neighbourhood', 'latitude', 'longitude'.\n",
        "\n",
        "- Other supporting data related to Airbnb's host performance are classified into different columns as described below:\n",
        "    - 'number_of_reviews',\n",
        "    - 'last_review',\n",
        "    - average reviews received per month ('review_per_month'),\n",
        "    - how many properties the host has listed on Airbnb ('calculate_host_listings_count'), and\n",
        "    - availability of room throughout the year ('availability_365')."
      ]
    },
    {
      "cell_type": "code",
      "execution_count": 3,
      "metadata": {
        "colab": {
          "base_uri": "https://localhost:8080/"
        },
        "id": "cth0SCBLov5i",
        "outputId": "17365aa9-2b89-4f4f-ae8e-d26ec2ee3f41"
      },
      "outputs": [
        {
          "name": "stdout",
          "output_type": "stream",
          "text": [
            "<class 'pandas.core.frame.DataFrame'>\n",
            "RangeIndex: 48895 entries, 0 to 48894\n",
            "Data columns (total 16 columns):\n",
            " #   Column                          Non-Null Count  Dtype  \n",
            "---  ------                          --------------  -----  \n",
            " 0   id                              48895 non-null  int64  \n",
            " 1   name                            48879 non-null  object \n",
            " 2   host_id                         48895 non-null  int64  \n",
            " 3   host_name                       48874 non-null  object \n",
            " 4   neighbourhood_group             48895 non-null  object \n",
            " 5   neighbourhood                   48895 non-null  object \n",
            " 6   latitude                        48895 non-null  float64\n",
            " 7   longitude                       48895 non-null  float64\n",
            " 8   room_type                       48895 non-null  object \n",
            " 9   price                           48895 non-null  int64  \n",
            " 10  minimum_nights                  48895 non-null  int64  \n",
            " 11  number_of_reviews               48895 non-null  int64  \n",
            " 12  last_review                     38843 non-null  object \n",
            " 13  reviews_per_month               38843 non-null  float64\n",
            " 14  calculated_host_listings_count  48895 non-null  int64  \n",
            " 15  availability_365                48895 non-null  int64  \n",
            "dtypes: float64(3), int64(7), object(6)\n",
            "memory usage: 6.0+ MB\n"
          ]
        }
      ],
      "source": [
        "# check if there are some null values and data type is correct before further processing\n",
        "main_df.info()"
      ]
    },
    {
      "cell_type": "markdown",
      "metadata": {
        "id": "n8mt2zEiov5i"
      },
      "source": [
        "#### **INSIGHT:**\n",
        "- There are total of 48895 data in most columns except several columns: 'name' (48879), 'host_name' (48874), 'last_review' and 'reviews_per_month' (38843).\n",
        "\n",
        "- The data type for each column is already correct so there is no need for data type conversion.\n",
        "\n",
        "- Since the percentage of null data in column 'name' is around 0.03% and column 'host_name' is about 0.4%, we can drop the rows associated with it. Apart from that, it's meaningless to analyze data related to performance of Airbnb and its host without knowing who or what they are.\n",
        "\n",
        "- If the 'number_of_reviews' is equal to 0, then 'last_review' can be filled with 'no reviews yet' and 'reviews_per_month' is 0. Let's see how many null data remains.\n",
        "\n",
        "- If the price <= 0, it's an invalid data since you wouldn't rent Airbnb for free or pay to the guest."
      ]
    },
    {
      "cell_type": "markdown",
      "metadata": {
        "id": "WiZ27KJVov5j"
      },
      "source": [
        "## 3. DATA CLEANING\n"
      ]
    },
    {
      "cell_type": "markdown",
      "metadata": {
        "id": "Kx7TWpB4ov5j"
      },
      "source": [
        "#### **1. Treatment with NaN values in 'name' and 'host_name' columns:**\n",
        "\n",
        "- Filling NaN values with 'unknown' in column 'name' and 'host_name' for easier NaN value removal."
      ]
    },
    {
      "cell_type": "code",
      "execution_count": 4,
      "metadata": {
        "id": "ow-0eIjCov5j"
      },
      "outputs": [],
      "source": [
        "# fill NaN values with 0 in column Year\n",
        "main_df['name'].fillna(value='unknown', inplace = True)\n",
        "\n",
        "# fill NaN values with 'unknown' in column Publisher\n",
        "main_df['host_name'].fillna(value='unknown', inplace = True)"
      ]
    },
    {
      "cell_type": "markdown",
      "metadata": {
        "id": "KejFvH7Bov5k"
      },
      "source": [
        "#### **2. Filtering converted NaN values out from the dataset:**\n"
      ]
    },
    {
      "cell_type": "code",
      "execution_count": 5,
      "metadata": {
        "colab": {
          "base_uri": "https://localhost:8080/"
        },
        "id": "xngXXF6iov5k",
        "outputId": "525aec27-2908-465e-d8af-903913045ce2"
      },
      "outputs": [
        {
          "name": "stdout",
          "output_type": "stream",
          "text": [
            "<class 'pandas.core.frame.DataFrame'>\n",
            "Index: 48858 entries, 0 to 48894\n",
            "Data columns (total 16 columns):\n",
            " #   Column                          Non-Null Count  Dtype  \n",
            "---  ------                          --------------  -----  \n",
            " 0   id                              48858 non-null  int64  \n",
            " 1   name                            48858 non-null  object \n",
            " 2   host_id                         48858 non-null  int64  \n",
            " 3   host_name                       48858 non-null  object \n",
            " 4   neighbourhood_group             48858 non-null  object \n",
            " 5   neighbourhood                   48858 non-null  object \n",
            " 6   latitude                        48858 non-null  float64\n",
            " 7   longitude                       48858 non-null  float64\n",
            " 8   room_type                       48858 non-null  object \n",
            " 9   price                           48858 non-null  int64  \n",
            " 10  minimum_nights                  48858 non-null  int64  \n",
            " 11  number_of_reviews               48858 non-null  int64  \n",
            " 12  last_review                     38821 non-null  object \n",
            " 13  reviews_per_month               38821 non-null  float64\n",
            " 14  calculated_host_listings_count  48858 non-null  int64  \n",
            " 15  availability_365                48858 non-null  int64  \n",
            "dtypes: float64(3), int64(7), object(6)\n",
            "memory usage: 6.3+ MB\n"
          ]
        }
      ],
      "source": [
        "# make a new dataset\n",
        "\n",
        "clean_df = main_df.copy()\n",
        "\n",
        "clean_df = clean_df[(clean_df['name']!='unknown') & (clean_df['host_name']!='unknown')]\n",
        "\n",
        "clean_df.info()"
      ]
    },
    {
      "cell_type": "code",
      "execution_count": 6,
      "metadata": {
        "colab": {
          "base_uri": "https://localhost:8080/"
        },
        "id": "mo56XI-cov5k",
        "outputId": "d344ad4f-df4e-4023-fdf6-5b617c09916b"
      },
      "outputs": [
        {
          "name": "stdout",
          "output_type": "stream",
          "text": [
            "<class 'pandas.core.frame.DataFrame'>\n",
            "RangeIndex: 48858 entries, 0 to 48857\n",
            "Data columns (total 16 columns):\n",
            " #   Column                          Non-Null Count  Dtype  \n",
            "---  ------                          --------------  -----  \n",
            " 0   id                              48858 non-null  int64  \n",
            " 1   name                            48858 non-null  object \n",
            " 2   host_id                         48858 non-null  int64  \n",
            " 3   host_name                       48858 non-null  object \n",
            " 4   neighbourhood_group             48858 non-null  object \n",
            " 5   neighbourhood                   48858 non-null  object \n",
            " 6   latitude                        48858 non-null  float64\n",
            " 7   longitude                       48858 non-null  float64\n",
            " 8   room_type                       48858 non-null  object \n",
            " 9   price                           48858 non-null  int64  \n",
            " 10  minimum_nights                  48858 non-null  int64  \n",
            " 11  number_of_reviews               48858 non-null  int64  \n",
            " 12  last_review                     38821 non-null  object \n",
            " 13  reviews_per_month               38821 non-null  float64\n",
            " 14  calculated_host_listings_count  48858 non-null  int64  \n",
            " 15  availability_365                48858 non-null  int64  \n",
            "dtypes: float64(3), int64(7), object(6)\n",
            "memory usage: 6.0+ MB\n"
          ]
        }
      ],
      "source": [
        "# reset the index\n",
        "clean_df.reset_index(drop = True, inplace = True)\n",
        "\n",
        "clean_df.info()"
      ]
    },
    {
      "cell_type": "code",
      "execution_count": 7,
      "metadata": {
        "colab": {
          "base_uri": "https://localhost:8080/"
        },
        "id": "BPS9aaaoov5k",
        "outputId": "0464d263-77ec-44d1-da05-6a644ca48eca"
      },
      "outputs": [
        {
          "name": "stdout",
          "output_type": "stream",
          "text": [
            "<class 'pandas.core.frame.DataFrame'>\n",
            "RangeIndex: 48858 entries, 0 to 48857\n",
            "Data columns (total 16 columns):\n",
            " #   Column                          Non-Null Count  Dtype  \n",
            "---  ------                          --------------  -----  \n",
            " 0   id                              48858 non-null  int64  \n",
            " 1   name                            48858 non-null  object \n",
            " 2   host_id                         48858 non-null  int64  \n",
            " 3   host_name                       48858 non-null  object \n",
            " 4   neighbourhood_group             48858 non-null  object \n",
            " 5   neighbourhood                   48858 non-null  object \n",
            " 6   latitude                        48858 non-null  float64\n",
            " 7   longitude                       48858 non-null  float64\n",
            " 8   room_type                       48858 non-null  object \n",
            " 9   price                           48858 non-null  int64  \n",
            " 10  minimum_nights                  48858 non-null  int64  \n",
            " 11  number_of_reviews               48858 non-null  int64  \n",
            " 12  last_review                     48858 non-null  object \n",
            " 13  reviews_per_month               48858 non-null  float64\n",
            " 14  calculated_host_listings_count  48858 non-null  int64  \n",
            " 15  availability_365                48858 non-null  int64  \n",
            "dtypes: float64(3), int64(7), object(6)\n",
            "memory usage: 6.0+ MB\n"
          ]
        }
      ],
      "source": [
        "# for columns related to reviews\n",
        "\n",
        "# column 'last_review'\n",
        "clean_df['last_review'] = np.where(clean_df['number_of_reviews']==0,'no reviews yet', clean_df['last_review'])\n",
        "\n",
        "# column 'reviews_per_month'\n",
        "clean_df['reviews_per_month'] = np.where(clean_df['number_of_reviews']==0, 0, clean_df['reviews_per_month'])\n",
        "\n",
        "clean_df.info()"
      ]
    },
    {
      "cell_type": "code",
      "execution_count": 8,
      "metadata": {
        "colab": {
          "base_uri": "https://localhost:8080/"
        },
        "id": "on0TKCbDov5k",
        "outputId": "2635b84f-79ea-4549-b7b0-62ca379611f3"
      },
      "outputs": [
        {
          "name": "stdout",
          "output_type": "stream",
          "text": [
            "<class 'pandas.core.frame.DataFrame'>\n",
            "RangeIndex: 48858 entries, 0 to 48857\n",
            "Data columns (total 15 columns):\n",
            " #   Column                          Non-Null Count  Dtype  \n",
            "---  ------                          --------------  -----  \n",
            " 0   id                              48858 non-null  int64  \n",
            " 1   name                            48858 non-null  object \n",
            " 2   host_id                         48858 non-null  int64  \n",
            " 3   host_name                       48858 non-null  object \n",
            " 4   neighbourhood_group             48858 non-null  object \n",
            " 5   neighbourhood                   48858 non-null  object \n",
            " 6   latitude                        48858 non-null  float64\n",
            " 7   longitude                       48858 non-null  float64\n",
            " 8   room_type                       48858 non-null  object \n",
            " 9   price                           48858 non-null  int64  \n",
            " 10  minimum_nights                  48858 non-null  int64  \n",
            " 11  number_of_reviews               48858 non-null  int64  \n",
            " 12  reviews_per_month               48858 non-null  float64\n",
            " 13  calculated_host_listings_count  48858 non-null  int64  \n",
            " 14  availability_365                48858 non-null  int64  \n",
            "dtypes: float64(3), int64(7), object(5)\n",
            "memory usage: 5.6+ MB\n"
          ]
        }
      ],
      "source": [
        "# drop column 'last_review'\n",
        "\n",
        "clean_df = clean_df.drop('last_review', axis = 1)\n",
        "clean_df.info()"
      ]
    },
    {
      "cell_type": "code",
      "execution_count": 9,
      "metadata": {
        "colab": {
          "base_uri": "https://localhost:8080/"
        },
        "id": "ba1ueXHPun7D",
        "outputId": "6b7dd26b-14ee-473b-924c-168dd57d9786"
      },
      "outputs": [
        {
          "name": "stdout",
          "output_type": "stream",
          "text": [
            "<class 'pandas.core.frame.DataFrame'>\n",
            "Index: 48847 entries, 0 to 48857\n",
            "Data columns (total 15 columns):\n",
            " #   Column                          Non-Null Count  Dtype  \n",
            "---  ------                          --------------  -----  \n",
            " 0   id                              48847 non-null  int64  \n",
            " 1   name                            48847 non-null  object \n",
            " 2   host_id                         48847 non-null  int64  \n",
            " 3   host_name                       48847 non-null  object \n",
            " 4   neighbourhood_group             48847 non-null  object \n",
            " 5   neighbourhood                   48847 non-null  object \n",
            " 6   latitude                        48847 non-null  float64\n",
            " 7   longitude                       48847 non-null  float64\n",
            " 8   room_type                       48847 non-null  object \n",
            " 9   price                           48847 non-null  int64  \n",
            " 10  minimum_nights                  48847 non-null  int64  \n",
            " 11  number_of_reviews               48847 non-null  int64  \n",
            " 12  reviews_per_month               48847 non-null  float64\n",
            " 13  calculated_host_listings_count  48847 non-null  int64  \n",
            " 14  availability_365                48847 non-null  int64  \n",
            "dtypes: float64(3), int64(7), object(5)\n",
            "memory usage: 6.0+ MB\n"
          ]
        }
      ],
      "source": [
        "# exclude data with the Airbnb's price <= 0\n",
        "\n",
        "clean_df = clean_df[(clean_df['price'] > 0)]\n",
        "\n",
        "clean_df.info()"
      ]
    },
    {
      "cell_type": "code",
      "execution_count": 10,
      "metadata": {
        "id": "WJI0xQFITAiM"
      },
      "outputs": [],
      "source": [
        "# convert to csv file\n",
        "clean_df.to_csv('main data.csv')"
      ]
    },
    {
      "cell_type": "markdown",
      "metadata": {
        "id": "3A-suMxOov5k"
      },
      "source": [
        "#### **INSIGHT:**\n",
        "\n",
        "- There are 48847 clean data which will be analyzed further and processed into visualizations.\n",
        "\n",
        "- The cause of NaN values in review related columns can be solved by implementing logic if number_of_reviews == 0, then reviews_per_month == 0 and last_review == 'no reviews yet'. The column 'last_review' is irrelevant to fulfill purpose in SMART GOAL section so it will be removed.\n",
        "\n",
        "- Now the data is ready for use."
      ]
    },
    {
      "cell_type": "markdown",
      "metadata": {
        "id": "dp2nJpcwov5l"
      },
      "source": [
        "## 4. ANALYSIS AND CALCULATION METHODS\n",
        "\n",
        "##### Note: EDA and statistical methods are implemented to answer the problem statement and problem description points.\n"
      ]
    },
    {
      "cell_type": "markdown",
      "metadata": {
        "id": "MqpR7iHCov5l"
      },
      "source": [
        "#### 1. **WHICH NEIGHBOURHOOD GROUP IS POPULAR FOR BOOKING BASED ON AVERAGE ROOM AVAILABILITY?**"
      ]
    },
    {
      "cell_type": "code",
      "execution_count": 11,
      "metadata": {
        "colab": {
          "base_uri": "https://localhost:8080/",
          "height": 520
        },
        "id": "qpk2zR7cov5l",
        "outputId": "edc3cd61-e1ce-42bd-8bdb-552ea50d0233"
      },
      "outputs": [
        {
          "data": {
            "text/html": [
              "<div>\n",
              "<style scoped>\n",
              "    .dataframe tbody tr th:only-of-type {\n",
              "        vertical-align: middle;\n",
              "    }\n",
              "\n",
              "    .dataframe tbody tr th {\n",
              "        vertical-align: top;\n",
              "    }\n",
              "\n",
              "    .dataframe thead th {\n",
              "        text-align: right;\n",
              "    }\n",
              "</style>\n",
              "<table border=\"1\" class=\"dataframe\">\n",
              "  <thead>\n",
              "    <tr style=\"text-align: right;\">\n",
              "      <th></th>\n",
              "      <th>room_type</th>\n",
              "      <th>neighbourhood_group</th>\n",
              "      <th>average_availability</th>\n",
              "    </tr>\n",
              "  </thead>\n",
              "  <tbody>\n",
              "    <tr>\n",
              "      <th>0</th>\n",
              "      <td>Entire home/apt</td>\n",
              "      <td>Bronx</td>\n",
              "      <td>158.35</td>\n",
              "    </tr>\n",
              "    <tr>\n",
              "      <th>1</th>\n",
              "      <td>Entire home/apt</td>\n",
              "      <td>Brooklyn</td>\n",
              "      <td>97.16</td>\n",
              "    </tr>\n",
              "    <tr>\n",
              "      <th>2</th>\n",
              "      <td>Entire home/apt</td>\n",
              "      <td>Manhattan</td>\n",
              "      <td>117.16</td>\n",
              "    </tr>\n",
              "    <tr>\n",
              "      <th>3</th>\n",
              "      <td>Entire home/apt</td>\n",
              "      <td>Queens</td>\n",
              "      <td>132.27</td>\n",
              "    </tr>\n",
              "    <tr>\n",
              "      <th>4</th>\n",
              "      <td>Entire home/apt</td>\n",
              "      <td>Staten Island</td>\n",
              "      <td>178.07</td>\n",
              "    </tr>\n",
              "    <tr>\n",
              "      <th>5</th>\n",
              "      <td>Private room</td>\n",
              "      <td>Bronx</td>\n",
              "      <td>171.40</td>\n",
              "    </tr>\n",
              "    <tr>\n",
              "      <th>6</th>\n",
              "      <td>Private room</td>\n",
              "      <td>Brooklyn</td>\n",
              "      <td>99.96</td>\n",
              "    </tr>\n",
              "    <tr>\n",
              "      <th>7</th>\n",
              "      <td>Private room</td>\n",
              "      <td>Manhattan</td>\n",
              "      <td>101.91</td>\n",
              "    </tr>\n",
              "    <tr>\n",
              "      <th>8</th>\n",
              "      <td>Private room</td>\n",
              "      <td>Queens</td>\n",
              "      <td>149.29</td>\n",
              "    </tr>\n",
              "    <tr>\n",
              "      <th>9</th>\n",
              "      <td>Private room</td>\n",
              "      <td>Staten Island</td>\n",
              "      <td>226.36</td>\n",
              "    </tr>\n",
              "    <tr>\n",
              "      <th>10</th>\n",
              "      <td>Shared room</td>\n",
              "      <td>Bronx</td>\n",
              "      <td>150.64</td>\n",
              "    </tr>\n",
              "    <tr>\n",
              "      <th>11</th>\n",
              "      <td>Shared room</td>\n",
              "      <td>Brooklyn</td>\n",
              "      <td>177.73</td>\n",
              "    </tr>\n",
              "    <tr>\n",
              "      <th>12</th>\n",
              "      <td>Shared room</td>\n",
              "      <td>Manhattan</td>\n",
              "      <td>138.57</td>\n",
              "    </tr>\n",
              "    <tr>\n",
              "      <th>13</th>\n",
              "      <td>Shared room</td>\n",
              "      <td>Queens</td>\n",
              "      <td>192.19</td>\n",
              "    </tr>\n",
              "    <tr>\n",
              "      <th>14</th>\n",
              "      <td>Shared room</td>\n",
              "      <td>Staten Island</td>\n",
              "      <td>64.78</td>\n",
              "    </tr>\n",
              "  </tbody>\n",
              "</table>\n",
              "</div>"
            ],
            "text/plain": [
              "          room_type neighbourhood_group  average_availability\n",
              "0   Entire home/apt               Bronx                158.35\n",
              "1   Entire home/apt            Brooklyn                 97.16\n",
              "2   Entire home/apt           Manhattan                117.16\n",
              "3   Entire home/apt              Queens                132.27\n",
              "4   Entire home/apt       Staten Island                178.07\n",
              "5      Private room               Bronx                171.40\n",
              "6      Private room            Brooklyn                 99.96\n",
              "7      Private room           Manhattan                101.91\n",
              "8      Private room              Queens                149.29\n",
              "9      Private room       Staten Island                226.36\n",
              "10      Shared room               Bronx                150.64\n",
              "11      Shared room            Brooklyn                177.73\n",
              "12      Shared room           Manhattan                138.57\n",
              "13      Shared room              Queens                192.19\n",
              "14      Shared room       Staten Island                 64.78"
            ]
          },
          "execution_count": 11,
          "metadata": {},
          "output_type": "execute_result"
        }
      ],
      "source": [
        "# make a copy of cleaned dataframe in a new variable called popular_roomtype\n",
        "popular_roomtype = clean_df.copy()\n",
        "\n",
        "popular_roomtype = popular_roomtype.sort_values(by='neighbourhood_group', ascending=True)\n",
        "\n",
        "# create popular_roomtype dataframe from filtering and name the mean availability_365 as average_availability\n",
        "popular_roomtype  = pd.DataFrame(popular_roomtype.groupby(['room_type','neighbourhood_group'])['availability_365'].mean().round(2).reset_index(name='average_availability'))\n",
        "\n",
        "\n",
        "popular_roomtype"
      ]
    },
    {
      "cell_type": "code",
      "execution_count": 12,
      "metadata": {
        "colab": {
          "base_uri": "https://localhost:8080/",
          "height": 432
        },
        "id": "ysIKcjrgxXVK",
        "outputId": "65173fd6-dbbc-40ae-e2ea-fbc06ac98c56"
      },
      "outputs": [
        {
          "data": {
            "image/png": "[encoded data removed]",
            "text/plain": [
              "<Figure size 1800x1000 with 1 Axes>"
            ]
          },
          "metadata": {},
          "output_type": "display_data"
        }
      ],
      "source": [
        "# Set the style when using seaborn\n",
        "sns.set(style=\"whitegrid\")\n",
        "\n",
        "# Combine data for all neighborhoods into one DataFrame\n",
        "combined_data = popular_roomtype.reset_index()\n",
        "\n",
        "# Set up the figure size\n",
        "plt.figure(figsize=(18, 10))\n",
        "\n",
        "# Plot the bar graph for all neighborhoods\n",
        "ax = sns.barplot(x='neighbourhood_group', y='average_availability', hue='room_type', data=combined_data)\n",
        "\n",
        "# Set font size for axis labels\n",
        "ax.tick_params(axis='x', labelsize=16)\n",
        "ax.tick_params(axis='y', labelsize=16)\n",
        "\n",
        "# Labelling values on bar graph\n",
        "for patch in ax.patches:\n",
        "    height = patch.get_height()\n",
        "    ax.text(patch.get_x() + patch.get_width() / 2, height + 5, f'{height:.2f}', ha='center', va='bottom', fontsize = 16)\n",
        "\n",
        "# Labelling the graph\n",
        "plt.title('Average Availability by Room Type and Neighbourhood', fontsize = 20)\n",
        "plt.xlabel('Neighbourhood', fontsize = 18)\n",
        "plt.ylabel('Average Availability (Days)', fontsize = 18)\n",
        "plt.legend(title='Room Type', bbox_to_anchor=(1.05, 1), loc='upper left', fontsize = 18)\n",
        "# Show final plot\n",
        "plt.show()"
      ]
    },
    {
      "cell_type": "markdown",
      "metadata": {
        "id": "-TDDqp-Zov5m"
      },
      "source": [
        "#### **INSIGHT:**\n",
        "\n",
        "- Based on the bar graph, it's found that Manhattan is the most popular neighbourhood group for Airbnb booking as it has overall the lowest average availability.\n",
        "\n",
        "- The second most popular neighbourhood group is Brooklyn which is more concentrated on 'Private room' and 'Entire home/apt' room types.\n",
        "\n",
        "- Both Bronx and Queens are classified as unpopular neighbourhoods for Airbnb bookings since each room type has average availability > 120 days.\n",
        "\n",
        "- Lastly, Staten Island's 'Shared room' room type is the most popular among all neighbourhoods (64.78 days) but least popular for the other room types."
      ]
    },
    {
      "cell_type": "markdown",
      "metadata": {
        "id": "wo-NKO0xfsHL"
      },
      "source": [
        "#### 2. **GEOSPATIAL HEATMAP DISTRIBUTION OF POPULAR AIRBNB ROOMS IN THE NEIGHBOURHOODS**\n",
        "\n"
      ]
    },
    {
      "cell_type": "code",
      "execution_count": 13,
      "metadata": {
        "id": "ocO4MAPljwW_"
      },
      "outputs": [],
      "source": [
        "# prepare dataset in nested list form\n",
        "# format data = [[latitude,longitude,value],...]\n",
        "# where 0 <= value <= 1\n",
        "# so make the density of available days by dividing the number of days with total number of days in a year (365)\n",
        "heatmap_data = {'latitude': clean_df['latitude'],'longitude': clean_df['longitude'],'density_availability_day': clean_df['availability_365']/365}\n",
        "\n",
        "# create the dataset\n",
        "heatmap_list = [list(item) for item in zip(heatmap_data['latitude'], heatmap_data['longitude'], heatmap_data['density_availability_day'])]\n",
        "\n"
      ]
    },
    {
      "cell_type": "code",
      "execution_count": 14,
      "metadata": {
        "colab": {
          "base_uri": "https://localhost:8080/",
          "height": 17
        },
        "id": "b9B7Svm1gHaS",
        "outputId": "71f271c4-0907-4f86-c306-a4bfd2f2f07a"
      },
      "outputs": [],
      "source": [
        "# import libraries for making geospatial heatmap\n",
        "import folium\n",
        "from folium.plugins import HeatMap\n",
        "# there are two basic parameters to initiate folium map: location, zoom_start\n",
        "\n",
        "# use this page to find the latitude and longitude\n",
        "# https://www.latlong.net/\n",
        "\n",
        "# you can adjust the initial zoom size on the map, 10 is good\n",
        "# this is the latitude and longitude of NEW YORK CITY\n",
        "m = folium.Map(location=[40.712776,-74.005974],zoom_start = 10)\n",
        "\n",
        "# create color gradient\n",
        "\n",
        "color_gradient = {\n",
        "    0.0: 'navy',\n",
        "    0.2: 'blue',\n",
        "    0.4: 'dodgerblue',\n",
        "    0.6: 'lightblue',\n",
        "    0.8: 'skyblue',\n",
        "    1.0: 'aqua'\n",
        "}\n",
        "\n",
        "# add heatmap data on map object 'm'\n",
        "HeatMap(heatmap_list, gradient=color_gradient).add_to(m)\n",
        "\n",
        "# add marker for neighbourhood_groups\n",
        "folium.Marker(location=[40.783058,-73.971252], popup = 'Manhattan').add_to(m)\n",
        "folium.Marker(location=[40.844784, -73.864830], popup = 'Bronx').add_to(m)\n",
        "folium.Marker(location=[40.678177, -73.944160], popup = 'Brooklyn').add_to(m)\n",
        "folium.Marker(location=[40.579533, -74.150200],popup = 'Staten Island').add_to(m)\n",
        "folium.Marker(location=[40.728226, -73.794853], popup = 'Queens').add_to(m)\n",
        "\n",
        "# Download the HTML file so you can view on web\n",
        "m.save('heatmap.html')\n",
        "\n",
        "# to view the file, write this on terminal: python -m http.server\n",
        "# then, while pressing command, click the link shown: http://[::]:8000/"
      ]
    },
    {
      "cell_type": "code",
      "execution_count": 71,
      "metadata": {
        "id": "w-mUf5TsSi52"
      },
      "outputs": [],
      "source": [
        "# download csv file\n",
        "heatmap_df = pd.DataFrame(heatmap_data)\n",
        "\n",
        "heatmap_df.to_csv('heatmap.csv')"
      ]
    },
    {
      "cell_type": "markdown",
      "metadata": {
        "id": "tBu2j5_l1iTf"
      },
      "source": [
        "#### **INSIGHT:**\n",
        "\n",
        "- Based on the geospatial heatmap, it is clearly seen that Manhattan has the most dense Airbnb housing whereas Staten Island has the least dense Airbnb housing.\n",
        "\n",
        "- The average availability in all neighbourhood lies approximately between 0.4-0.8 density of availability_day365, which is from 146 to 292 days."
      ]
    },
    {
      "cell_type": "markdown",
      "metadata": {
        "id": "Fgwxh-ramHrv"
      },
      "source": [
        "#### 3. **PIE CHART TO ILLUSTRATE PROPORTION OF ROOM TYPES AVAILABLE ON AIRBNB**"
      ]
    },
    {
      "cell_type": "code",
      "execution_count": 15,
      "metadata": {
        "id": "7-R4k2fJ0_5P"
      },
      "outputs": [],
      "source": [
        "def percentage_calculator(data,price_range):\n",
        "  percentage_keeper = []\n",
        "  total = sum(data)\n",
        "  for i in range(len(data)):\n",
        "    calculate = round((data[i]/total) * 100,2)\n",
        "    percentage_keeper.append(calculate)\n",
        "  return percentage_keeper"
      ]
    },
    {
      "cell_type": "code",
      "execution_count": 16,
      "metadata": {
        "colab": {
          "base_uri": "https://localhost:8080/",
          "height": 143
        },
        "id": "OSvY0GA2Olhn",
        "outputId": "f87ad72f-b193-4fe6-9a0e-18792ff8f619"
      },
      "outputs": [
        {
          "data": {
            "text/html": [
              "<div>\n",
              "<style scoped>\n",
              "    .dataframe tbody tr th:only-of-type {\n",
              "        vertical-align: middle;\n",
              "    }\n",
              "\n",
              "    .dataframe tbody tr th {\n",
              "        vertical-align: top;\n",
              "    }\n",
              "\n",
              "    .dataframe thead th {\n",
              "        text-align: right;\n",
              "    }\n",
              "</style>\n",
              "<table border=\"1\" class=\"dataframe\">\n",
              "  <thead>\n",
              "    <tr style=\"text-align: right;\">\n",
              "      <th></th>\n",
              "      <th>room_type</th>\n",
              "      <th>total_rooms</th>\n",
              "    </tr>\n",
              "  </thead>\n",
              "  <tbody>\n",
              "    <tr>\n",
              "      <th>0</th>\n",
              "      <td>Entire home/apt</td>\n",
              "      <td>25391</td>\n",
              "    </tr>\n",
              "    <tr>\n",
              "      <th>1</th>\n",
              "      <td>Private room</td>\n",
              "      <td>22299</td>\n",
              "    </tr>\n",
              "    <tr>\n",
              "      <th>2</th>\n",
              "      <td>Shared room</td>\n",
              "      <td>1157</td>\n",
              "    </tr>\n",
              "  </tbody>\n",
              "</table>\n",
              "</div>"
            ],
            "text/plain": [
              "         room_type  total_rooms\n",
              "0  Entire home/apt        25391\n",
              "1     Private room        22299\n",
              "2      Shared room         1157"
            ]
          },
          "execution_count": 16,
          "metadata": {},
          "output_type": "execute_result"
        }
      ],
      "source": [
        "# create a separate table to keep original table\n",
        "room_df = clean_df.copy()\n",
        "# create a dataframe containing room_type and total number of rooms\n",
        "# use size to count the number of each element (room_type)\n",
        "count_df = pd.DataFrame(room_df.groupby('room_type').size().reset_index(name='total_rooms'))\n",
        "count_df\n"
      ]
    },
    {
      "cell_type": "code",
      "execution_count": 17,
      "metadata": {
        "colab": {
          "base_uri": "https://localhost:8080/",
          "height": 413
        },
        "id": "ROuYhKBKmG6B",
        "outputId": "fe908fae-e9cb-4923-9b9c-9801e8eec3d1"
      },
      "outputs": [
        {
          "data": {
            "image/png": "[encoded data removed]",
            "text/plain": [
              "<Figure size 640x480 with 1 Axes>"
            ]
          },
          "metadata": {},
          "output_type": "display_data"
        }
      ],
      "source": [
        "# define the label and proportion sizes\n",
        "label_name = ['Entire home/apt','Private room','Shared room']\n",
        "proportion_sizes = percentage_calculator(count_df['total_rooms'],label_name)\n",
        "\n",
        "# plotting the pie chart\n",
        "plt.pie(proportion_sizes, labels=label_name, autopct='%1.1f%%', startangle=90)\n",
        "plt.axis('equal')  # Equal aspect ratio ensures that the pie chart is circular.\n",
        "\n",
        "# show pie chart\n",
        "plt.show()"
      ]
    },
    {
      "cell_type": "code",
      "execution_count": 18,
      "metadata": {
        "colab": {
          "base_uri": "https://localhost:8080/",
          "height": 81
        },
        "id": "osjWmM-ynzvB",
        "outputId": "e696a7c9-db08-4b31-b6a0-ba295e24a34f"
      },
      "outputs": [
        {
          "data": {
            "text/html": [
              "<div>\n",
              "<style scoped>\n",
              "    .dataframe tbody tr th:only-of-type {\n",
              "        vertical-align: middle;\n",
              "    }\n",
              "\n",
              "    .dataframe tbody tr th {\n",
              "        vertical-align: top;\n",
              "    }\n",
              "\n",
              "    .dataframe thead th {\n",
              "        text-align: right;\n",
              "    }\n",
              "</style>\n",
              "<table border=\"1\" class=\"dataframe\">\n",
              "  <thead>\n",
              "    <tr style=\"text-align: right;\">\n",
              "      <th></th>\n",
              "      <th>Entire home/apt</th>\n",
              "      <th>Private room</th>\n",
              "      <th>Shared room</th>\n",
              "    </tr>\n",
              "  </thead>\n",
              "  <tbody>\n",
              "    <tr>\n",
              "      <th>0</th>\n",
              "      <td>51.98</td>\n",
              "      <td>45.65</td>\n",
              "      <td>2.37</td>\n",
              "    </tr>\n",
              "  </tbody>\n",
              "</table>\n",
              "</div>"
            ],
            "text/plain": [
              "   Entire home/apt  Private room  Shared room\n",
              "0            51.98         45.65         2.37"
            ]
          },
          "execution_count": 18,
          "metadata": {},
          "output_type": "execute_result"
        }
      ],
      "source": [
        "# create the dataset\n",
        "pie_data = {'Entire home/apt': [proportion_sizes[0]],'Private room': [proportion_sizes[1]],'Shared room': [proportion_sizes[2]]}\n",
        "\n",
        "pie_df = pd.DataFrame(pie_data)\n",
        "\n",
        "pie_df"
      ]
    },
    {
      "cell_type": "code",
      "execution_count": 67,
      "metadata": {
        "id": "lIutSxKgRgLG"
      },
      "outputs": [],
      "source": [
        "# download csv file\n",
        "pie_df.to_csv('pie_chart_roomtype.csv')"
      ]
    },
    {
      "cell_type": "markdown",
      "metadata": {
        "id": "BVjqRjnCO19a"
      },
      "source": [
        "#### **INSIGHT:**\n",
        "\n",
        "- The pie chart depicts the proportion of room types owned by the Airbnb hosts.\n",
        "\n",
        "- Among all room types, 'Entire home/apt' dominates the total rooms by slightly more than half, at 52%.\n",
        "\n",
        "- The second highest proportion is held by 'Private room' which covers almost the other half of the pie, at 45.6%, leaving 2.4% remained for 'Shared room'.\n",
        "\n",
        "- Thus, most Airbnb hosts own either 'Entire home/apt' or (and) 'Private room'."
      ]
    },
    {
      "cell_type": "markdown",
      "metadata": {
        "id": "21JeSrN-lgQC"
      },
      "source": [
        "#### 4. **COMPARISON OF PRICES OF ALL ROOM TYPES AND CHECK OUTLIERS**"
      ]
    },
    {
      "cell_type": "code",
      "execution_count": 19,
      "metadata": {
        "id": "VPtOB0Zgj86_"
      },
      "outputs": [],
      "source": [
        "# show descriptive statistical values\n",
        "def desc_stats(d,col_name):\n",
        "    d_sorted = d.sort_values(by=col_name)\n",
        "    group_name = ', '.join(map(str, d_sorted['neighbourhood_group'].unique()))\n",
        "\n",
        "    # central tendency calculation\n",
        "    rounded_mean = round(d_sorted[col_name].mean(),2)\n",
        "    rounded_median = round(d_sorted[col_name].median(),2)\n",
        "\n",
        "    # dispersion calculation: STD, IQR\n",
        "    rounded_std = round(d_sorted[col_name].std(),2)\n",
        "    # for IQR (interquartile range) calculation\n",
        "    q1 = d_sorted[col_name].quantile(0.25)\n",
        "    q3 = d_sorted[col_name].quantile(0.75)\n",
        "    rounded_iqr = round(q3 -q1,2)\n",
        "    # upper and lower boundaries\n",
        "    upper_bound = round((rounded_median + 1.5*rounded_iqr),2)\n",
        "    lower_bound = round((rounded_median - 1.5*rounded_iqr),2)\n",
        "\n",
        "    # about data distribution and existence of extreme values indicators\n",
        "    rounded_skew = round(d_sorted[col_name].skew(),2)\n",
        "    rounded_kurtosis = round(d_sorted[col_name].kurtosis(),2)\n",
        "    for name in d_sorted.columns:\n",
        "        # to print only specific col_name\n",
        "        if col_name == name:\n",
        "\n",
        "            # remove quotation mark on column name (col_name)\n",
        "            print(f\"Descriptive statistics for prices in neighbourhood '{group_name}':\")\n",
        "            print(f\"Mean: {rounded_mean}\")\n",
        "            print(f\"Median: {rounded_median}\")\n",
        "            print(f\"Standard deviation: {rounded_std}\")\n",
        "            print(f\"Interquartile range: {rounded_iqr}\")\n",
        "            print(f\"Skewness: {rounded_skew}\")\n",
        "            print(f\"Kurtosis: {rounded_kurtosis}\")\n",
        "\n",
        "            # to calculate how many outlier data\n",
        "            outlier_data = d_sorted[col_name][(d_sorted[col_name]< lower_bound)| (d_sorted[col_name]>upper_bound)]\n",
        "            total_outlier = len(outlier_data)\n",
        "            print(f'There are {total_outlier} outlier data.')\n",
        "            break\n",
        "        else:\n",
        "            pass\n"
      ]
    },
    {
      "cell_type": "code",
      "execution_count": 20,
      "metadata": {
        "id": "znyV8cnmpT3C"
      },
      "outputs": [],
      "source": [
        "# make new dataframes to make individual descriptive statistics analysis\n",
        "neighbourhood_df = clean_df.copy()\n",
        "bronx_df = pd.DataFrame(neighbourhood_df[neighbourhood_df['neighbourhood_group']== 'Bronx'].sort_values(by='price', ascending = True).reset_index(drop=True))\n",
        "brooklyn_df = pd.DataFrame(neighbourhood_df[neighbourhood_df['neighbourhood_group']== 'Brooklyn'].sort_values(by='price', ascending = True).reset_index(drop=True))\n",
        "manhattan_df = pd.DataFrame(neighbourhood_df[neighbourhood_df['neighbourhood_group']== 'Manhattan'].sort_values(by='price', ascending = True).reset_index(drop=True))\n",
        "queens_df = pd.DataFrame(neighbourhood_df[neighbourhood_df['neighbourhood_group']== 'Queens'].sort_values(by='price', ascending = True).reset_index(drop=True))\n",
        "staten_df = pd.DataFrame(neighbourhood_df[neighbourhood_df['neighbourhood_group']== 'Staten Island'].sort_values(by='price', ascending = True).reset_index(drop=True))"
      ]
    },
    {
      "cell_type": "code",
      "execution_count": 21,
      "metadata": {
        "colab": {
          "base_uri": "https://localhost:8080/"
        },
        "id": "Uiu8JJPb5640",
        "outputId": "8958dc93-f6be-4998-bf1b-e4b663fbb5e6"
      },
      "outputs": [
        {
          "name": "stdout",
          "output_type": "stream",
          "text": [
            "Descriptive statistics for prices in neighbourhood 'Bronx':\n",
            "Mean: 87.55\n",
            "Median: 65.0\n",
            "Standard deviation: 106.82\n",
            "Interquartile range: 54.0\n",
            "Skewness: 12.5\n",
            "Kurtosis: 248.75\n",
            "There are 106 outlier data.\n"
          ]
        }
      ],
      "source": [
        "# for Bronx neighbourhood\n",
        "desc_stats(bronx_df,'price')"
      ]
    },
    {
      "cell_type": "code",
      "execution_count": 22,
      "metadata": {
        "colab": {
          "base_uri": "https://localhost:8080/"
        },
        "id": "Rnn9LumF7VJm",
        "outputId": "aea13a5e-6066-45cf-e9f8-b28b5e1688d0"
      },
      "outputs": [
        {
          "name": "stdout",
          "output_type": "stream",
          "text": [
            "Descriptive statistics for prices in neighbourhood 'Brooklyn':\n",
            "Mean: 124.47\n",
            "Median: 90.0\n",
            "Standard deviation: 186.96\n",
            "Interquartile range: 90.0\n",
            "Skewness: 23.46\n",
            "Kurtosis: 878.36\n",
            "There are 1695 outlier data.\n"
          ]
        }
      ],
      "source": [
        "# for Brooklyn neighbourhood\n",
        "desc_stats(brooklyn_df,'price')"
      ]
    },
    {
      "cell_type": "code",
      "execution_count": 23,
      "metadata": {
        "colab": {
          "base_uri": "https://localhost:8080/"
        },
        "id": "e3zWRXOJ7ny2",
        "outputId": "41f9670c-8ed9-462c-b8ca-71f918f953f9"
      },
      "outputs": [
        {
          "name": "stdout",
          "output_type": "stream",
          "text": [
            "Descriptive statistics for prices in neighbourhood 'Manhattan':\n",
            "Mean: 196.91\n",
            "Median: 150.0\n",
            "Standard deviation: 291.49\n",
            "Interquartile range: 125.0\n",
            "Skewness: 15.94\n",
            "Kurtosis: 399.25\n",
            "There are 2147 outlier data.\n"
          ]
        }
      ],
      "source": [
        "# for Manhattan neighbourhood\n",
        "desc_stats(manhattan_df,'price')"
      ]
    },
    {
      "cell_type": "code",
      "execution_count": 24,
      "metadata": {
        "colab": {
          "base_uri": "https://localhost:8080/"
        },
        "id": "Pb9-MfCr7wxB",
        "outputId": "30016f01-740e-457e-a0bc-2832cac54064"
      },
      "outputs": [
        {
          "name": "stdout",
          "output_type": "stream",
          "text": [
            "Descriptive statistics for prices in neighbourhood 'Queens':\n",
            "Mean: 99.54\n",
            "Median: 75.0\n",
            "Standard deviation: 167.13\n",
            "Interquartile range: 60.0\n",
            "Skewness: 39.16\n",
            "Kurtosis: 2200.55\n",
            "There are 615 outlier data.\n"
          ]
        }
      ],
      "source": [
        "# for Queens neighbourhood\n",
        "desc_stats(queens_df,'price')"
      ]
    },
    {
      "cell_type": "code",
      "execution_count": 25,
      "metadata": {
        "colab": {
          "base_uri": "https://localhost:8080/"
        },
        "id": "2Ow5oauM75jk",
        "outputId": "0970d2ab-cc8e-4e3b-fa11-0957c1e8ff26"
      },
      "outputs": [
        {
          "name": "stdout",
          "output_type": "stream",
          "text": [
            "Descriptive statistics for prices in neighbourhood 'Staten Island':\n",
            "Mean: 114.81\n",
            "Median: 75.0\n",
            "Standard deviation: 277.62\n",
            "Interquartile range: 60.0\n",
            "Skewness: 15.09\n",
            "Kurtosis: 260.15\n",
            "There are 44 outlier data.\n"
          ]
        }
      ],
      "source": [
        "# for Staten Island neighbourhood\n",
        "desc_stats(staten_df,'price')"
      ]
    },
    {
      "cell_type": "code",
      "execution_count": 26,
      "metadata": {
        "colab": {
          "base_uri": "https://localhost:8080/",
          "height": 646
        },
        "id": "GbKWHSj-_MSQ",
        "outputId": "f40bf2c8-b894-4ec1-f7de-0f1ac5c24ee2"
      },
      "outputs": [
        {
          "data": {
            "image/png": "[encoded data removed]",
            "text/plain": [
              "<Figure size 2000x1500 with 1 Axes>"
            ]
          },
          "metadata": {},
          "output_type": "display_data"
        }
      ],
      "source": [
        "# Set the style of seaborn\n",
        "sns.set(style=\"whitegrid\")\n",
        "\n",
        "# Create a boxplot\n",
        "plt.figure(figsize=(20, 15))\n",
        "sns.boxplot(x='neighbourhood_group', y='price', data=neighbourhood_df, palette=\"light:b\")\n",
        "plt.xlabel('Neighbourhood')\n",
        "plt.ylabel('Price (USD)')\n",
        "plt.title('Boxplot of Prices in Each Neighborhood Group')\n",
        "plt.show()"
      ]
    },
    {
      "cell_type": "markdown",
      "metadata": {
        "id": "utKHF8tPR3aE"
      },
      "source": [
        "#### **INSIGHT:**\n",
        "\n",
        "- The boxplots for Airbnb room prices describes the price distribution in each neighbourhood group.\n",
        "\n",
        "- Among all neighbourhoods, Manhattan has the most widepsread price variation, followed by Brooklyn, Queens, Staten Island, and Bronx.\n",
        "\n",
        "- This observation is supported by standard deviation (std) and interquartile range (iqr) calculation result from each group. Similar to the boxplot, the order of the neighbourhood group is the same from highest to lowest both std and iqr. Here is the details for each group:\n",
        "    1. Manhattan(std:291.49, iqr:125.0)\n",
        "    2. Brooklyn(std:186.96, iqr:90.0)\n",
        "    3. Staten Island(std:277.62, iqr:60.0)\n",
        "    4. Queens(std:167.13, iqr:60.0)\n",
        "    5. Bronx(std:106.82, iqr:54.0)\n",
        "\n",
        "- This result is reasonable since more various prices is originated from other factors such as market dynamics. Based on insights from point 1, popularity of neighbourhood can affect pricing strategies.\n"
      ]
    },
    {
      "cell_type": "markdown",
      "metadata": {
        "id": "je1Smr2xMWN1"
      },
      "source": [
        "#### 5. **HOW TO CONFIRM IF THERE IS A SIGNIFICANT DIFFERENCE IN PRICES BETWEEN THE NEIGHBOURHOOD GROUPS?**\n",
        "\n",
        "Method: ANOVA test (Inferential Statistics)\n",
        "\n",
        "- H0: there is no significant difference about the prices in all neighbourhood groups.\n",
        "\n",
        "- H1: there is a significant difference about the prices from one neighbourhood group to another."
      ]
    },
    {
      "cell_type": "code",
      "execution_count": 27,
      "metadata": {
        "colab": {
          "base_uri": "https://localhost:8080/"
        },
        "id": "uFzB_dB1JX53",
        "outputId": "1eb9b89b-3561-49fd-84f8-991256e8dd6e"
      },
      "outputs": [
        {
          "name": "stdout",
          "output_type": "stream",
          "text": [
            "Average Price of Airbnb rooms in Bronx: USD 87.55\n",
            "Average Price of Airbnb rooms in Brooklyn: USD 124.47\n",
            "Average Price of Airbnb rooms in Manhattan: USD 196.91\n",
            "Average Price of Airbnb rooms in Queens: USD 99.54\n",
            "Average Price of Airbnb rooms in Staten Island: USD 114.81\n"
          ]
        }
      ],
      "source": [
        "# use the tables prepared in step 3 to conduct the calculation\n",
        "# compare the average price values between the neighbourhood groups\n",
        "print(f'Average Price of Airbnb rooms in Bronx: USD {bronx_df[\"price\"].mean():.2f}')\n",
        "print(f'Average Price of Airbnb rooms in Brooklyn: USD {brooklyn_df[\"price\"].mean():.2f}')\n",
        "print(f'Average Price of Airbnb rooms in Manhattan: USD {manhattan_df[\"price\"].mean():.2f}')\n",
        "print(f'Average Price of Airbnb rooms in Queens: USD {queens_df[\"price\"].mean():.2f}')\n",
        "print(f'Average Price of Airbnb rooms in Staten Island: USD {staten_df[\"price\"].mean():.2f}')"
      ]
    },
    {
      "cell_type": "code",
      "execution_count": 28,
      "metadata": {
        "colab": {
          "base_uri": "https://localhost:8080/"
        },
        "id": "SElGDzWsM1xh",
        "outputId": "bfd84139-20d2-4418-ca71-a0e459c244ed"
      },
      "outputs": [
        {
          "name": "stdout",
          "output_type": "stream",
          "text": [
            "The p-value: 4.208501569800712e-301\n"
          ]
        }
      ],
      "source": [
        "res = stats.f_oneway(bronx_df[\"price\"], brooklyn_df[\"price\"], manhattan_df[\"price\"],queens_df[\"price\"],staten_df[\"price\"])\n",
        "print('The p-value:',res.pvalue)"
      ]
    },
    {
      "cell_type": "markdown",
      "metadata": {
        "id": "KtUONrTsNGFR"
      },
      "source": [
        "#### **INSIGHT:**\n",
        "\n",
        "- The ANOVA test result rejects the null hypothesis since the p-value, that is equivalent to 4.208501569800712e-301, is less than the critical value, 0.05.\n",
        "- This means that the prices indeed differ depending on the neighbourhood groups."
      ]
    },
    {
      "cell_type": "markdown",
      "metadata": {
        "id": "o1BuELEgov5m"
      },
      "source": [
        "#### 6. **THE RELATIONSHIP BETWEEN THE AIRBNB PRICE AND THE MINIMUM BOOKED NIGHT**"
      ]
    },
    {
      "cell_type": "code",
      "execution_count": 30,
      "metadata": {
        "colab": {
          "base_uri": "https://localhost:8080/",
          "height": 424
        },
        "id": "2mWD-Iveov5m",
        "outputId": "8b009350-dfdd-4e84-c1b6-f349777894e3"
      },
      "outputs": [
        {
          "data": {
            "text/html": [
              "<div>\n",
              "<style scoped>\n",
              "    .dataframe tbody tr th:only-of-type {\n",
              "        vertical-align: middle;\n",
              "    }\n",
              "\n",
              "    .dataframe tbody tr th {\n",
              "        vertical-align: top;\n",
              "    }\n",
              "\n",
              "    .dataframe thead th {\n",
              "        text-align: right;\n",
              "    }\n",
              "</style>\n",
              "<table border=\"1\" class=\"dataframe\">\n",
              "  <thead>\n",
              "    <tr style=\"text-align: right;\">\n",
              "      <th></th>\n",
              "      <th>price</th>\n",
              "      <th>minimum_nights</th>\n",
              "    </tr>\n",
              "  </thead>\n",
              "  <tbody>\n",
              "    <tr>\n",
              "      <th>0</th>\n",
              "      <td>149</td>\n",
              "      <td>1</td>\n",
              "    </tr>\n",
              "    <tr>\n",
              "      <th>1</th>\n",
              "      <td>225</td>\n",
              "      <td>1</td>\n",
              "    </tr>\n",
              "    <tr>\n",
              "      <th>2</th>\n",
              "      <td>150</td>\n",
              "      <td>3</td>\n",
              "    </tr>\n",
              "    <tr>\n",
              "      <th>3</th>\n",
              "      <td>89</td>\n",
              "      <td>1</td>\n",
              "    </tr>\n",
              "    <tr>\n",
              "      <th>4</th>\n",
              "      <td>80</td>\n",
              "      <td>10</td>\n",
              "    </tr>\n",
              "    <tr>\n",
              "      <th>...</th>\n",
              "      <td>...</td>\n",
              "      <td>...</td>\n",
              "    </tr>\n",
              "    <tr>\n",
              "      <th>48853</th>\n",
              "      <td>70</td>\n",
              "      <td>2</td>\n",
              "    </tr>\n",
              "    <tr>\n",
              "      <th>48854</th>\n",
              "      <td>40</td>\n",
              "      <td>4</td>\n",
              "    </tr>\n",
              "    <tr>\n",
              "      <th>48855</th>\n",
              "      <td>115</td>\n",
              "      <td>10</td>\n",
              "    </tr>\n",
              "    <tr>\n",
              "      <th>48856</th>\n",
              "      <td>55</td>\n",
              "      <td>1</td>\n",
              "    </tr>\n",
              "    <tr>\n",
              "      <th>48857</th>\n",
              "      <td>90</td>\n",
              "      <td>7</td>\n",
              "    </tr>\n",
              "  </tbody>\n",
              "</table>\n",
              "<p>48847 rows × 2 columns</p>\n",
              "</div>"
            ],
            "text/plain": [
              "       price  minimum_nights\n",
              "0        149               1\n",
              "1        225               1\n",
              "2        150               3\n",
              "3         89               1\n",
              "4         80              10\n",
              "...      ...             ...\n",
              "48853     70               2\n",
              "48854     40               4\n",
              "48855    115              10\n",
              "48856     55               1\n",
              "48857     90               7\n",
              "\n",
              "[48847 rows x 2 columns]"
            ]
          },
          "execution_count": 30,
          "metadata": {},
          "output_type": "execute_result"
        }
      ],
      "source": [
        "# make the dataset first\n",
        "\n",
        "price_vs_minbook = {'price':clean_df['price'], 'minimum_nights': clean_df['minimum_nights']}\n",
        "\n",
        "pvm_df = pd.DataFrame(price_vs_minbook)\n",
        "\n",
        "pvm_df"
      ]
    },
    {
      "cell_type": "code",
      "execution_count": 31,
      "metadata": {
        "colab": {
          "base_uri": "https://localhost:8080/",
          "height": 480
        },
        "id": "FUVSZFeKsEXa",
        "outputId": "171dddd8-a1c6-4319-d54d-386310f866fd"
      },
      "outputs": [
        {
          "data": {
            "image/png": "[encoded data removed]",
            "text/plain": [
              "<Figure size 640x480 with 1 Axes>"
            ]
          },
          "metadata": {},
          "output_type": "display_data"
        }
      ],
      "source": [
        "from scipy.optimize import curve_fit\n",
        "# construct a scatter plot to check relationship between\n",
        "# Airbnb price and minimum nights stayed\n",
        "\n",
        "# define x and y values\n",
        "x_val = pvm_df['price']\n",
        "y_val = pvm_df['minimum_nights']\n",
        "\n",
        "\n",
        "# scatterplot\n",
        "plt.scatter(x_val,y_val)\n",
        "\n",
        "# Set labels and title\n",
        "plt.xlabel('Airbnb Room Price (USD)')\n",
        "plt.ylabel('Minimum Nights Spent by Guests (nights)')\n",
        "plt.title('Room Price vs Minimum Nights Spent')\n",
        "\n",
        "# Show the plot\n",
        "plt.show()"
      ]
    },
    {
      "cell_type": "code",
      "execution_count": 32,
      "metadata": {
        "colab": {
          "base_uri": "https://localhost:8080/"
        },
        "id": "vklWoWB5s2FE",
        "outputId": "e011740c-591c-4606-98a1-67ac65e79b8e"
      },
      "outputs": [
        {
          "name": "stdout",
          "output_type": "stream",
          "text": [
            "r-correlation coefficient: 0.04, p-value: 2.917903213606785e-21\n",
            "rho-correlation coefficient: 0.10, p-value: 1.814789608442659e-111\n",
            "tau-correlation coefficient: 0.07, p-value: 5.981833930845768e-114\n"
          ]
        }
      ],
      "source": [
        "# correlation tests between Airbnb Room Price and Minimum Nights Spent by Guests\n",
        "\n",
        "# Pearson: linear relationship testing\n",
        "corr_r, pval_p = stats.pearsonr(pvm_df['price'], pvm_df['minimum_nights'])\n",
        "\n",
        "# Spearman: monotonic relationship testing\n",
        "corr_rho, pval_s = stats.spearmanr(pvm_df['price'], pvm_df['minimum_nights'])\n",
        "\n",
        "# Kendall-Tau: rank relationship testing\n",
        "corr_tau, pval_k = stats.kendalltau(pvm_df['price'], pvm_df['minimum_nights'])\n",
        "\n",
        "print(f\"r-correlation coefficient: {corr_r:.2f}, p-value: {pval_p}\")\n",
        "print(f\"rho-correlation coefficient: {corr_rho:.2f}, p-value: {pval_s}\")\n",
        "print(f\"tau-correlation coefficient: {corr_tau:.2f}, p-value: {pval_k}\")"
      ]
    },
    {
      "cell_type": "code",
      "execution_count": 60,
      "metadata": {
        "id": "IFKQqOR3RBw_"
      },
      "outputs": [],
      "source": [
        "# download csv file\n",
        "pvm_df.to_csv('scatterplot_price_night.csv')"
      ]
    },
    {
      "cell_type": "markdown",
      "metadata": {
        "id": "I-j5yZ16vAfL"
      },
      "source": [
        "#### **INSIGHT:**\n",
        "\n",
        "- The scatter plot gives a hint that the data distribution concentrates at price range 0-2500 USD. As the price increases, the density of data decreases.\n",
        "\n",
        "- Based on the observation from previous point, there is a weak negative correlation between the variables.\n",
        "\n",
        "- However, correlation tests such as:\n",
        "  - Pearson(r-correlation coefficient),\n",
        "  - Spearman(rho-correlation coefficient), and\n",
        "  - Kendall-tau(tau-correlation coefficient),\n",
        "  \n",
        "  are needed to validate this finding.\n",
        "\n",
        "- The null and alternative hypotheses for these correlation tests are defined as the following:\n",
        "  - H0: No correlation if the correlation coefficient = 0\n",
        "  - H1: Correlation exists if the correlation coefficient != 0\n",
        "\n",
        "- Finally, the decision for accepting the hypothesis depends on the p-value.\n",
        "  - p-value < 0.05, reject the null hypothesis.\n",
        "  - p-value ≥ 0.05, fail to reject the null hypothesis.\n",
        "where 0.05 represents statistical significance.\n"
      ]
    },
    {
      "cell_type": "markdown",
      "metadata": {
        "id": "UXy5D3CCt-YB"
      },
      "source": [
        "#### **INSIGHT AFTER IMPLEMENTING TESTS:**\n",
        "\n",
        "- All correlation test coefficients suggest a very weak positive correlation as they are > 0.\n",
        "  - Pearson(r:0.04, p-val: 2.91790321360179e-21)\n",
        "  - Spearman(rho:0.10, p-val: 1.814789608442659e-111)\n",
        "  - Kendall-tau(tau:0.07,p-val: 5.981833930845768e-114)\n",
        "\n",
        "- Furthermore, all p-values (p-val) < 0.05 so the null hypothesis stating no correlation between Airbnb price and minimum nights stayed is rejected.\n",
        "\n",
        "- Therefore, it can be inferred that there is a statistically significant relationship:\n",
        "\n",
        "  \" as Airbnb prices increase, the minimum nights guests stay also tend to increase, suggesting a (very weak) positive correlation between these variables. \"\n"
      ]
    },
    {
      "cell_type": "markdown",
      "metadata": {
        "id": "Z8QB3wi_9MnW"
      },
      "source": [
        "## 5. CONCLUSION\n",
        "\n"
      ]
    },
    {
      "cell_type": "markdown",
      "metadata": {
        "id": "mOjnnBWnLSKx"
      },
      "source": [
        "**IMPORTANT POINTS FROM ANALYSIS:**\n",
        "\n",
        "To sum up, Manhattan and Brooklyn are the most popular Airbnb booking neighbourhood groups especially for 'Private room' and 'Entire home/apt' since the average availability of the rooms are less than 120 days.\n",
        "\n",
        "Meanwhile, the 'Shared room' in Staten Island is the most favored among all neighbourhood groups since it has the least average availability of rooms in the year, at approximately 65 days.\n",
        "\n",
        "On the other hand, Queens and Bronx are not considered favorite Airbnb booking sites as the average availability of the rooms for all room types are greater than 120 days.\n",
        "\n",
        "Furthermore, Manhattan and Brooklyn also have the relatively large Airbnb price deviations compared to other regions. This result indicates the existence of other factors that make one neighbourhood group having significantly higher prices than the other which is confirmed by the ANOVA TEST result.\n",
        "\n",
        "Note: Manhattan's price std (highest) -> 291.49 USD, Brooklyn's price std (third) -> 186.96 USD.\n",
        "\n"
      ]
    },
    {
      "cell_type": "markdown",
      "metadata": {
        "id": "x-bIvA5eLUOz"
      },
      "source": [
        "**SOLUTION FOR NEXT HOSTING STRATEGIES:**\n",
        "\n",
        "Setting up more listings on Staten Island for 'Shared room' can fulfill the observed demand, leading to potential higher prices. Here are the consideration points:\n",
        "\n",
        "- The geospatial heatmap distribution of popular Airbnb rooms suggests that Staten Island has less Airbnb listing density compared to Manhattan and Brooklyn although its 'Shared room' is most on demand.\n",
        "\n",
        "- The pie chart points out how low 'Shared room' proportion is compared to other room types in the neighbourhoods. So, the competition for booking is also less.\n",
        "\n",
        "- It is possible to set up high price on the listing since the guests tend to stay in longer periods for more expensive Airbnb rooms.\n"
      ]
    }
  ],
  "metadata": {
    "colab": {
      "collapsed_sections": [
        "R8Zk-zshov5l",
        "VrkjTx7Eov5e",
        "WiZ27KJVov5j",
        "MqpR7iHCov5l",
        "wo-NKO0xfsHL",
        "21JeSrN-lgQC",
        "je1Smr2xMWN1",
        "o1BuELEgov5m",
        "Z8QB3wi_9MnW"
      ],
      "provenance": []
    },
    "kernelspec": {
      "display_name": "base",
      "language": "python",
      "name": "python3"
    },
    "language_info": {
      "codemirror_mode": {
        "name": "ipython",
        "version": 3
      },
      "file_extension": ".py",
      "mimetype": "text/x-python",
      "name": "python",
      "nbconvert_exporter": "python",
      "pygments_lexer": "ipython3",
      "version": "3.11.5"
    }
  },
  "nbformat": 4,
  "nbformat_minor": 0
}
